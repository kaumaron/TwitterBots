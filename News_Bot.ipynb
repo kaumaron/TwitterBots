{
 "cells": [
  {
   "cell_type": "code",
   "execution_count": 10,
   "metadata": {
    "collapsed": true
   },
   "outputs": [],
   "source": [
    "from tweepy.streaming import StreamListener\n",
    "from tweepy import OAuthHandler, API\n",
    "from tweepy import Stream\n",
    "from time import sleep\n",
    "import json\n",
    "import logging\n",
    "import warnings\n",
    "from pprint import pprint\n",
    "from secrets import *\n",
    "\n",
    "warnings.filterwarnings('ignore')\n",
    "\n",
    "auth_handler = OAuthHandler(consumer_key, consumer_secret)\n",
    "auth_handler.set_access_token(access_token, access_token_secret)\n",
    "twitter_client = API(auth_handler)\n",
    "\n",
    "logging.getLogger(\"main\").setLevel(logging.INFO)\n",
    " \n",
    "AVOID = [\"monty\", \"leather\", \"skin\", \"bag\", \"blood\", \"bite\"]\n",
    "\n",
    "class PyStreamListener(StreamListener):\n",
    "    def on_data(self, data):\n",
    "        tweet = json.loads(data)\n",
    "        try:\n",
    "            publish = True\n",
    "            for word in AVOID:\n",
    "                if word in tweet['text'].lower():\n",
    "                    logging.info(\"SKIPPED FOR {}\".format(word))\n",
    "                    publish = False\n",
    " \n",
    "            if tweet.get('lang') and tweet.get('lang') != 'en':\n",
    "                publish = False\n",
    " \n",
    "            if publish:\n",
    "                twitter_client.retweet(tweet['id'])\n",
    "                logging.debug(\"RT: {}\".format(tweet['text']))\n",
    "                sleep(30)\n",
    " \n",
    "        except Exception as ex:\n",
    "            logging.error(ex)\n",
    " \n",
    "        return True\n",
    " \n",
    "    def on_error(self, status):\n",
    "        print(status)\n",
    "\n",
    "if __name__ == '__main__':\n",
    "    listener = PyStreamListener()\n",
    "    stream = Stream(auth_handler, listener)\n",
    "    stream.filter(track=['python', 'data science', 'datascience', 'dataskeptic', \\\n",
    "                         'AI', 'artificial intelligence', 'IOT', 'internet of things'])"
   ]
  }
 ],
 "metadata": {
  "anaconda-cloud": {},
  "kernelspec": {
   "display_name": "Python [default]",
   "language": "python",
   "name": "python3"
  },
  "language_info": {
   "codemirror_mode": {
    "name": "ipython",
    "version": 3
   },
   "file_extension": ".py",
   "mimetype": "text/x-python",
   "name": "python",
   "nbconvert_exporter": "python",
   "pygments_lexer": "ipython3",
   "version": "3.5.2"
  }
 },
 "nbformat": 4,
 "nbformat_minor": 1
}
